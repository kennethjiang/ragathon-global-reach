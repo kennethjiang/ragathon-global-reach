{
 "cells": [
  {
   "cell_type": "code",
   "execution_count": 1,
   "metadata": {},
   "outputs": [
    {
     "name": "stdout",
     "output_type": "stream",
     "text": [
      "pygame 2.6.1 (SDL 2.28.4, Python 3.12.7)\n",
      "Hello from the pygame community. https://www.pygame.org/contribute.html\n"
     ]
    }
   ],
   "source": [
    "from helpers import *"
   ]
  },
  {
   "cell_type": "code",
   "execution_count": 4,
   "metadata": {},
   "outputs": [
    {
     "data": {
      "text/plain": [
       "'\"- [Narrator] These are bananas, obviously. They\\'re from Trader Joe\\'s. Today, they cost 19 cents each, and about 25 years ago, bananas at Trader Joe\\'s cost 19 cents. As of 2020, Trader Joe\\'s gross average sales per square foot was more than double those of other major grocery store chains, and it\\'s been ranked the highest rated grocery store for customer satisfaction. So how does Trader Joe\\'s manage to keep prices low while out-competing traditional grocery stores by selling fewer products? This is the economics of Trader Joe\\'s. - Trader Joe\\'s stores are smaller and they tend to carry fewer items, and the vast majority of what they sell is private label. - [Narrator] When the store first opened in 1967, Trader Joe\\'s founder, Joe Coulombe, emphasized stocking products that were unconventional to shoppers at the time like Dijon mustard and granola. In 1979, Trader Joe\\'s was bought by the German discount grocery store chain, ALDI Nord, and today, Trader Joe\\'s has built its image around selling trendy, quirky, and seasonal items. - Orange chicken. - Cacio E Pepe pasta sauce from Trader Joe\\'s. - It helps with fueling the experience for customers. People can go and kinda feel like they\\'re discovering something new. - [Narrator] And these products have created a large and loyal customer fan base. - I went to Trader Joe\\'s and I accidentally got, I got way too much stuff. - Of course, I love Trader Joe\\'s. - [Narrator] Its popularity on social media is helpful for the company, because Trader Joe\\'s doesn\\'t do a lot of advertising. Actually, the grocery store doesn\\'t do a lot of things that other grocery stores do. There\\'s no loyalty program, no online shopping platform, and no deli counter, still. . . - The Trader Joe\\'s fan base is strong and they are dedicated, they are mega fans. People will sell Trader Joe\\'s products on places like eBay for a much higher price tag than what you would find at the stores. - [Narrator] Trader Joe\\'s smaller selection can make the in-store shopping experience more efficient for customers, according to psychologist and professor, Barry Schwartz. For example, instead of having to pick between many different brands of tomato sauce at a conventional grocery store, customers at Trader Joe\\'s can quickly select one from its more limited options. By selling a small selection of house brands, Trader Joe\\'s can control its own supply chain, which it says brings down prices. - Trader Joe\\'s items tend to be cheaper, because they buy directly from producers and manufacturers whenever they can, so this cuts cost that would typically go to the middleman, and the company says they are able to pass that along to shoppers. - [Narrator] Trader Joe\\'s says it buys in bulk and often pays for items upfront whenever possible from suppliers, this all helps lower prices. The grocery store chain also says it pays for some products like Dijon mustard in local currency, so if the currency fluctuates, Trader Joe\\'s takes on the risk, not the supplier. And by assuming the risk, Trader Joe\\'s says it can negotiate better prices with suppliers. This control over its products and supply chain means Trader Joe\\'s can easily add and remove items from its shelves. - One of the unique things about Trader Joe\\'s is they\\'re constantly changing their shelves. If products aren\\'t selling as well as they thought they would, they remove them from their shelves to make room for something better. - [Narrator] Some grocery stores charge brands various marketing fees to stock products, but Trader Joe\\'s says it only makes money when customers make a purchase. So according to Trader Joe\\'s, this incentivizes it to only stock products that customers like, from Joe-Joe\\'s Sandwich Cookies to Kung Pao Chicken. - There isn\\'t really another chain that does what they do. There are other discounters that sell for cheaper, but you\\'re not gonna find the innovation and the fun products there. The traditional grocery stores have tried to go that route, but Trader Joe\\'s is Trader Joe\\'s. (upbeat music)\"'"
      ]
     },
     "execution_count": 4,
     "metadata": {},
     "output_type": "execute_result"
    }
   ],
   "source": [
    "def punctuate_text(text):\n",
    "    response = openai.chat.completions.create(\n",
    "        model='gpt-3.5-turbo',\n",
    "        messages=[\n",
    "            {\"role\": \"system\", \"content\": \"You are a helpful assistant that accurately punctuates text.\"},\n",
    "            {\"role\": \"user\", \"content\": f\"Please punctuate the following text accurately:\\n\\n{text}\"}\n",
    "        ],\n",
    "        max_tokens=1500,\n",
    "        temperature=0\n",
    "    )\n",
    "    return response.choices[0].message.content.strip()\n",
    "ttt = \"\"\"\n",
    "\"- [Narrator] These are bananas, obviously. They're from Trader Joe's. Today, they cost 19 cents\\neach, and about 25 years ago, bananas at Trader Joe's cost 19 cents. As of 2020, Trader Joe's gross\\naverage sales per square foot was more than double those of other major grocery store chains, and it's been ranked the\\nhighest rated grocery store for customer satisfaction. So how does Trader Joe's\\nmanage to keep prices low while out-competing\\ntraditional grocery stores by selling fewer products? This is the economics of Trader Joe's. - Trader Joe's stores are smaller and they tend to carry fewer items, and the vast majority of what\\nthey sell is private label. - [Narrator] When the\\nstore first opened in 1967, Trader Joe's founder, Joe Coulombe, emphasized stocking products\\nthat were unconventional to shoppers at the time like\\nDijon mustard and granola. In 1979, Trader Joe's was bought by the German discount grocery\\nstore chain, ALDI Nord, and today, Trader Joe's\\nhas built its image around selling trendy,\\nquirky, and seasonal items. - Orange chicken. - Cacio E Pepe pasta\\nsauce from Trader Joe's. - It helps with fueling the\\nexperience for customers. People can go and kinda feel like they're discovering something new. - [Narrator] And these\\nproducts have created a large and loyal customer fan base. - I went to Trader Joe's\\nand I accidentally got, I got way too much stuff. - Of course, I love Trader Joe's. - [Narrator] Its\\npopularity on social media is helpful for the company, because Trader Joe's doesn't\\ndo a lot of advertising. Actually, the grocery store doesn't do a lot of things that\\nother grocery stores do. There's no loyalty program,\\nno online shopping platform, and no deli counter, still. . . - The Trader Joe's fan base is strong and they are dedicated,\\nthey are mega fans. People will sell Trader Joe's products on places like eBay for\\na much higher price tag than what you would find at the stores. - [Narrator] Trader\\nJoe's smaller selection can make the in-store shopping\\nexperience more efficient for customers, according to psychologist and professor, Barry Schwartz. For example, instead of having to pick between many different\\nbrands of tomato sauce at a conventional grocery store, customers at Trader Joe's\\ncan quickly select one from its more limited options. By selling a small\\nselection of house brands, Trader Joe's can control\\nits own supply chain, which it says brings down prices. - Trader Joe's items tend to be cheaper, because they buy directly from\\nproducers and manufacturers whenever they can, so this cuts cost that would typically go to the middleman, and the company says they\\nare able to pass that along to shoppers. - [Narrator] Trader Joe's\\nsays it buys in bulk and often pays for items upfront whenever possible from suppliers, this all helps lower prices. The grocery store chain also says it pays for some products like Dijon\\nmustard in local currency, so if the currency fluctuates, Trader Joe's takes on the\\nrisk, not the supplier. And by assuming the\\nrisk, Trader Joe's says it can negotiate better\\nprices with suppliers. This control over its products and supply chain means\\nTrader Joe's can easily add and remove items from its shelves. - One of the unique\\nthings about Trader Joe's is they're constantly\\nchanging their shelves. If products aren't selling as well as they thought they would, they remove them from their shelves to make room for something better. - [Narrator] Some grocery stores charge brands various marketing\\nfees to stock products, but Trader Joe's says it only makes money when customers make a purchase. So according to Trader Joe's, this incentivizes it\\nto only stock products that customers like, from Joe-Joe's Sandwich\\nCookies to Kung Pao Chicken. - There isn't really another\\nchain that does what they do. There are other discounters\\nthat sell for cheaper, but you're not gonna find the innovation and the fun products there. The traditional grocery stores\\nhave tried to go that route, but Trader Joe's is Trader Joe's. (upbeat music)\"\n",
    "\"\"\"\n",
    "punctuate_text(ttt)"
   ]
  },
  {
   "cell_type": "code",
   "execution_count": 33,
   "metadata": {},
   "outputs": [
    {
     "name": "stdout",
     "output_type": "stream",
     "text": [
      "\"- [Narrator] These are bananas, obviously. They're from Trader Joe's. Today, they cost 19 cents each, and about 25 years ago, bananas at Trader Joe's cost 19 cents. As of 2020, Trader Joe's gross average sales per square foot was more than double those of other major grocery store chains, and it's been ranked the highest rated grocery store for customer satisfaction. So how does Trader Joe's manage to keep prices low while out-competing traditional grocery stores by selling fewer products? This is the economics of Trader Joe's. - Trader Joe's stores are smaller and they tend to carry fewer items, and the vast majority of what they sell is private label. - [Narrator] When the store first opened in 1967, Trader Joe's founder, Joe Coulombe, emphasized stocking products that were unconventional to shoppers at the time like Dijon mustard and granola. In 1979, Trader Joe's was bought by the German discount grocery store chain, ALDI Nord, and today, Trader Joe's has built its image around selling trendy, quirky, and seasonal items. - Orange chicken. - Cacio E Pepe pasta sauce from Trader Joe's. - It helps with fueling the experience for customers. People can go and kinda feel like they're discovering something new. - [Narrator] And these products have created a large and loyal customer fan base. - I went to Trader Joe's and I accidentally got, I got way too much stuff. - Of course, I love Trader Joe's. - [Narrator] Its popularity on social media is helpful for the company, because Trader Joe's doesn't do a lot of advertising. Actually, the grocery store doesn't do a lot of things that other grocery stores do. There's no loyalty program, no online shopping platform, and no deli counter, still. . . - The Trader Joe's fan base is strong and they are dedicated, they are mega fans. People will sell Trader Joe's products on places like eBay for a much higher price tag than what you would find at the stores. - [Narrator] Trader Joe's smaller selection can make the in-store shopping experience more efficient for customers, according to psychologist and professor, Barry Schwartz. For example, instead of having to pick between many different brands of tomato sauce at a conventional grocery store, customers at Trader Joe's can quickly select one from its more limited options. By selling a small selection of house brands, Trader Joe's can control its own supply chain, which it says brings down prices. - Trader Joe's items tend to be cheaper, because they buy directly from producers and manufacturers whenever they can, so this cuts cost that would typically go to the middleman, and the company says they are able to pass that along to shoppers. - [Narrator] Trader Joe's says it buys in bulk and often pays for items upfront whenever possible from suppliers, this all helps lower prices. The grocery store chain also says it pays for some products like Dijon mustard in local currency, so if the currency fluctuates, Trader Joe's takes on the risk, not the supplier. And by assuming the risk, Trader Joe's says it can negotiate better prices with suppliers. This control over its products and supply chain means Trader Joe's can easily add and remove items from its shelves. - One of the unique things about Trader Joe's is they're constantly changing their shelves. If products aren't selling as well as they thought they would, they remove them from their shelves to make room for something better. - [Narrator] Some grocery stores charge brands various marketing fees to stock products, but Trader Joe's says it only makes money when customers make a purchase. So according to Trader Joe's, this incentivizes it to only stock products that customers like, from Joe-Joe's Sandwich Cookies to Kung Pao Chicken. - There isn't really another chain that does what they do. There are other discounters that sell for cheaper, but you're not gonna find the innovation and the fun products there. The traditional grocery stores have tried to go that route, but Trader Joe's is Trader Joe's. (upbeat music)\"\n"
     ]
    }
   ],
   "source": [
    "from llama_index.llms.openai import OpenAI\n",
    "from llama_index.core.llms import ChatMessage\n",
    "\n",
    "llm = OpenAI(model=\"gpt-3.5-turbo\")\n",
    "\n",
    "def punctuate_text(text):\n",
    "\n",
    "    messages = [\n",
    "        ChatMessage(\n",
    "            role=\"system\", content=\"You are a helpful assistant that accurately punctuates text.\"\n",
    "        ),\n",
    "        ChatMessage(role=\"user\", content=f\"Please punctuate the following text accurately:\\n\\n{text}\"),\n",
    "    ]\n",
    "\n",
    "\n",
    "    resp = llm.chat(\n",
    "        messages=messages,\n",
    "        temperature=0\n",
    "    )\n",
    "\n",
    "    return resp.message.content\n",
    "\n",
    "resp = punctuate_text(ttt)\n",
    "print(resp)\n",
    "\n"
   ]
  },
  {
   "cell_type": "code",
   "execution_count": 32,
   "metadata": {},
   "outputs": [
    {
     "data": {
      "text/plain": [
       "'\"- [Narrator] These are bananas, obviously. They\\'re from Trader Joe\\'s. Today, they cost 19 cents each, and about 25 years ago, bananas at Trader Joe\\'s cost 19 cents. As of 2020, Trader Joe\\'s gross average sales per square foot was more than double those of other major grocery store chains, and it\\'s been ranked the highest rated grocery store for customer satisfaction. So how does Trader Joe\\'s manage to keep prices low while out-competing traditional grocery stores by selling fewer products? This is the economics of Trader Joe\\'s. - Trader Joe\\'s stores are smaller and they tend to carry fewer items, and the vast majority of what they sell is private label. - [Narrator] When the store first opened in 1967, Trader Joe\\'s founder, Joe Coulombe, emphasized stocking products that were unconventional to shoppers at the time like Dijon mustard and granola. In 1979, Trader Joe\\'s was bought by the German discount grocery store chain, ALDI Nord, and today, Trader Joe\\'s has built its image around selling trendy, quirky, and seasonal items. - Orange chicken. - Cacio E Pepe pasta sauce from Trader Joe\\'s. - It helps with fueling the experience for customers. People can go and kinda feel like they\\'re discovering something new. - [Narrator] And these products have created a large and loyal customer fan base. - I went to Trader Joe\\'s and I accidentally got, I got way too much stuff. - Of course, I love Trader Joe\\'s. - [Narrator] Its popularity on social media is helpful for the company, because Trader Joe\\'s doesn\\'t do a lot of advertising. Actually, the grocery store doesn\\'t do a lot of things that other grocery stores do. There\\'s no loyalty program, no online shopping platform, and no deli counter, still. . . - The Trader Joe\\'s fan base is strong and they are dedicated, they are mega fans. People will sell Trader Joe\\'s products on places like eBay for a much higher price tag than what you would find at the stores. - [Narrator] Trader Joe\\'s smaller selection can make the in-store shopping experience more efficient for customers, according to psychologist and professor, Barry Schwartz. For example, instead of having to pick between many different brands of tomato sauce at a conventional grocery store, customers at Trader Joe\\'s can quickly select one from its more limited options. By selling a small selection of house brands, Trader Joe\\'s can control its own supply chain, which it says brings down prices. - Trader Joe\\'s items tend to be cheaper, because they buy directly from producers and manufacturers whenever they can, so this cuts cost that would typically go to the middleman, and the company says they are able to pass that along to shoppers. - [Narrator] Trader Joe\\'s says it buys in bulk and often pays for items upfront whenever possible from suppliers, this all helps lower prices. The grocery store chain also says it pays for some products like Dijon mustard in local currency, so if the currency fluctuates, Trader Joe\\'s takes on the risk, not the supplier. And by assuming the risk, Trader Joe\\'s says it can negotiate better prices with suppliers. This control over its products and supply chain means Trader Joe\\'s can easily add and remove items from its shelves. - One of the unique things about Trader Joe\\'s is they\\'re constantly changing their shelves. If products aren\\'t selling as well as they thought they would, they remove them from their shelves to make room for something better. - [Narrator] Some grocery stores charge brands various marketing fees to stock products, but Trader Joe\\'s says it only makes money when customers make a purchase. So according to Trader Joe\\'s, this incentivizes it to only stock products that customers like, from Joe-Joe\\'s Sandwich Cookies to Kung Pao Chicken. - There isn\\'t really another chain that does what they do. There are other discounters that sell for cheaper, but you\\'re not gonna find the innovation and the fun products there. The traditional grocery stores have tried to go that route, but Trader Joe\\'s is Trader Joe\\'s. (upbeat music)\"'"
      ]
     },
     "execution_count": 32,
     "metadata": {},
     "output_type": "execute_result"
    }
   ],
   "source": [
    "resp.message.content\n"
   ]
  },
  {
   "cell_type": "code",
   "execution_count": 2,
   "metadata": {},
   "outputs": [
    {
     "name": "stdout",
     "output_type": "stream",
     "text": [
      "[youtube] Extracting URL: https://www.youtube.com/watch?v=8MzQjtIkF5g\n",
      "[youtube] 8MzQjtIkF5g: Downloading webpage\n",
      "[youtube] 8MzQjtIkF5g: Downloading ios player API JSON\n",
      "[youtube] 8MzQjtIkF5g: Downloading mweb player API JSON\n",
      "[youtube] 8MzQjtIkF5g: Downloading m3u8 information\n",
      "[info] 8MzQjtIkF5g: Downloading 1 format(s): 616+251\n",
      "Deleting existing file video.mkv\n",
      "[hlsnative] Downloading m3u8 manifest\n",
      "[hlsnative] Total fragments: 55\n",
      "[download] Destination: video.f616.mp4\n",
      "[download] 100% of   67.19MiB in 00:00:08 at 7.55MiB/s                  \n",
      "[download] Destination: video.f251.webm\n",
      "[download] 100% of    4.50MiB in 00:00:00 at 18.68MiB/s    \n",
      "[Merger] Merging formats into \"video.mkv\"\n",
      "Deleting original file video.f251.webm (pass -k to keep)\n",
      "Deleting original file video.f616.mp4 (pass -k to keep)\n",
      "Video downloaded successfully.\n",
      "Deleted existing file: transcript.en.srt\n",
      "Subtitles downloaded and converted successfully.\n",
      "Loading subtitle file: transcript.en.srt\n"
     ]
    }
   ],
   "source": [
    "video_id = '8MzQjtIkF5g'\n",
    "# video_id = 'V76HS4jHoJE'\n",
    "\n",
    "download_video(video_id)\n",
    "\n",
    "download_subtitles(video_id)\n",
    "\n",
    "# Load the SRT file\n",
    "subs = load_first_subtitle()\n",
    "\n",
    "updated_subs_array1, combined_text1, all_words1 = extract_subs(subs)\n",
    "\n",
    "# print(combined_text1)\n",
    "# punctuated_text1 = punctuate_text(combined_text1)\n",
    "\n",
    "# print(punctuated_text1)\n",
    "# sentences_with_indices1 = get_sentences_with_indices(punctuated_text1, all_words1)\n",
    "\n",
    "# sentences_with_timestamps1 = get_sentences_with_timestamps(sentences_with_indices1, updated_subs_array1)\n",
    "\n",
    "# base_audio = combined_audio(sentences_with_timestamps1)"
   ]
  },
  {
   "cell_type": "code",
   "execution_count": 3,
   "metadata": {},
   "outputs": [
    {
     "data": {
      "text/plain": [
       "\"- [Narrator] These are bananas, obviously. They're from Trader Joe's. Today, they cost 19 cents\\neach, and about 25 years ago, bananas at Trader Joe's cost 19 cents. As of 2020, Trader Joe's gross\\naverage sales per square foot was more than double those of other major grocery store chains, and it's been ranked the\\nhighest rated grocery store for customer satisfaction. So how does Trader Joe's\\nmanage to keep prices low while out-competing\\ntraditional grocery stores by selling fewer products? This is the economics of Trader Joe's. - Trader Joe's stores are smaller and they tend to carry fewer items, and the vast majority of what\\nthey sell is private label. - [Narrator] When the\\nstore first opened in 1967, Trader Joe's founder, Joe Coulombe, emphasized stocking products\\nthat were unconventional to shoppers at the time like\\nDijon mustard and granola. In 1979, Trader Joe's was bought by the German discount grocery\\nstore chain, ALDI Nord, and today, Trader Joe's\\nhas built its image around selling trendy,\\nquirky, and seasonal items. - Orange chicken. - Cacio E Pepe pasta\\nsauce from Trader Joe's. - It helps with fueling the\\nexperience for customers. People can go and kinda feel like they're discovering something new. - [Narrator] And these\\nproducts have created a large and loyal customer fan base. - I went to Trader Joe's\\nand I accidentally got, I got way too much stuff. - Of course, I love Trader Joe's. - [Narrator] Its\\npopularity on social media is helpful for the company, because Trader Joe's doesn't\\ndo a lot of advertising. Actually, the grocery store doesn't do a lot of things that\\nother grocery stores do. There's no loyalty program,\\nno online shopping platform, and no deli counter, still. . . - The Trader Joe's fan base is strong and they are dedicated,\\nthey are mega fans. People will sell Trader Joe's products on places like eBay for\\na much higher price tag than what you would find at the stores. - [Narrator] Trader\\nJoe's smaller selection can make the in-store shopping\\nexperience more efficient for customers, according to psychologist and professor, Barry Schwartz. For example, instead of having to pick between many different\\nbrands of tomato sauce at a conventional grocery store, customers at Trader Joe's\\ncan quickly select one from its more limited options. By selling a small\\nselection of house brands, Trader Joe's can control\\nits own supply chain, which it says brings down prices. - Trader Joe's items tend to be cheaper, because they buy directly from\\nproducers and manufacturers whenever they can, so this cuts cost that would typically go to the middleman, and the company says they\\nare able to pass that along to shoppers. - [Narrator] Trader Joe's\\nsays it buys in bulk and often pays for items upfront whenever possible from suppliers, this all helps lower prices. The grocery store chain also says it pays for some products like Dijon\\nmustard in local currency, so if the currency fluctuates, Trader Joe's takes on the\\nrisk, not the supplier. And by assuming the\\nrisk, Trader Joe's says it can negotiate better\\nprices with suppliers. This control over its products and supply chain means\\nTrader Joe's can easily add and remove items from its shelves. - One of the unique\\nthings about Trader Joe's is they're constantly\\nchanging their shelves. If products aren't selling as well as they thought they would, they remove them from their shelves to make room for something better. - [Narrator] Some grocery stores charge brands various marketing\\nfees to stock products, but Trader Joe's says it only makes money when customers make a purchase. So according to Trader Joe's, this incentivizes it\\nto only stock products that customers like, from Joe-Joe's Sandwich\\nCookies to Kung Pao Chicken. - There isn't really another\\nchain that does what they do. There are other discounters\\nthat sell for cheaper, but you're not gonna find the innovation and the fun products there. The traditional grocery stores\\nhave tried to go that route, but Trader Joe's is Trader Joe's. (upbeat music)\""
      ]
     },
     "execution_count": 3,
     "metadata": {},
     "output_type": "execute_result"
    }
   ],
   "source": [
    "combined_text1"
   ]
  },
  {
   "cell_type": "code",
   "execution_count": null,
   "metadata": {},
   "outputs": [],
   "source": [
    "\n",
    "# Export the combined audio to a BytesIO object\n",
    "output = io.BytesIO()\n",
    "base_audio.export(output, format=\"mp3\")\n",
    "output.seek(0)\n",
    "\n",
    "# Play the combined audio\n",
    "play_audio(output.getvalue())"
   ]
  },
  {
   "cell_type": "code",
   "execution_count": 4,
   "metadata": {},
   "outputs": [
    {
     "name": "stdout",
     "output_type": "stream",
     "text": [
      "267491\n",
      "- [旁白] 显然，这些是香蕉。\n",
      "它们来自 Trader Joe&#39;s。\n",
      "如今，每根香蕉的价格为 19 美分，而大约 25 年前，Trader Joe&#39;s 的香蕉价格为 19 美分。\n",
      "截至 2020 年，Trader Joe&#39;s 每平方英尺的平均销售额是其他大型连锁杂货店的两倍多，并且在客户满意度方面被评为最高的杂货店。\n",
      "那么 Trader Joe&#39;s 如何通过销售更少的产品来击败传统杂货店，同时保持低价呢？\n",
      "这就是 Trader Joe’s 的经济学。\n",
      "Trader Joe 的商店规模较小，经营的商品较少，且其销售的绝大多数商品都是自有品牌。\n",
      "- [旁白] 1967 年商店首次开业时，Trader Joe&#39;s 的创始人 Joe Coulombe 强调储备当时对购物者来说非常规的产品，例如第戎芥末和格兰诺拉麦片。\n",
      "1979 年，Trader Joe&#39;s 被德国折扣连锁杂货店 ALDI Nord 收购，如今，Trader Joe&#39;s 以销售时尚、奇特和季节性商品建立了自己的形象。\n",
      "橙子鸡。\n",
      "Trader Joe&#39;s 的 Cacio E Pepe 意大利面酱。\n",
      "它有助于丰富顾客体验。\n",
      "人们可以去那里并且感觉好像发现了一些新的东西。\n",
      "- [旁白] 这些产品已经拥有了庞大而忠诚的客户粉丝群。\n",
      "我去了 Trader Joe&#39;s，不小心买了太多东西。\n",
      "当然，我喜欢 Trader Joe&#39;s。\n",
      "- [旁白] Trader Joe&#39;s 在社交媒体上的受欢迎程度对公司很有帮助，因为该公司并不做大量广告。\n",
      "实际上，这家杂货店并不做很多其他杂货店做的事情。\n",
      "仍然没有忠诚度计划、没有在线购物平台、也没有熟食柜台。\n",
      "Trader Joe 的粉丝群体庞大，他们非常忠诚，都是超级粉丝。\n",
      "人们会在 eBay 等网站上以比商店中高得多的价格出售 Trader Joe 的产品。\n",
      "- [旁白] 心理学家兼教授巴里施瓦茨 (Barry Schwartz) 表示，Trader Joe 的商品选择较少，可以让顾客的店内购物体验更加高效。\n",
      "例如，Trader Joe&#39;s 的顾客不必在传统杂货店中从众多不同品牌的番茄酱中进行选择，而是可以从有限的选项中快速选择一种。\n",
      "通过销售少量自有品牌，Trader Joe&#39;s 可以控制自己的供应链，从而降低价格。\n",
      "Trader Joe&#39;s 的商品往往更便宜，因为他们尽可能直接从生产商和制造商那里购买，因此这减少了通常会由中间商支付的成本，而该公司表示他们能够将这笔成本转嫁给购物者。\n",
      "- [旁白] Trader Joe&#39;s 表示，它会批量采购，并且通常会尽可能向供应商预付款，这一切都有助于降低价格。\n",
      "该连锁杂货店还表示，它使用当地货币支付第戎芥末等一些产品的费用，因此如果货币波动，承担风险的将是 Trader Joe&#39;s，而不是供应商。\n",
      "Trader Joe&#39;s 表示，通过承担风险，它可以与供应商协商出更优惠的价格。\n",
      "对产品和供应链的控制意味着 Trader Joe&#39;s 可以轻松地在货架上添加和移除商品。\n",
      "Trader Joe&#39;s 的独特之处之一是他们不断更换货架。\n",
      "如果产品的销量不如他们预期，他们就会将其从货架上撤下，为更好的产品腾出空间。\n",
      "- [旁白] 一些杂货店向品牌收取各种营销费用来储存产品，但 Trader Joe&#39;s 表示只有当顾客购买时才能赚钱。\n",
      "因此，根据 Trader Joe&#39;s 的说法，这会激励它只储存顾客喜欢的产品，从 Joe-Joe 的夹心饼干到宫保鸡丁。\n",
      "确实没有其他连锁店能做他们所做的事情。\n",
      "还有其他折扣店的商品更便宜，但你不会在那里找到创新和有趣的产品。\n",
      "传统的杂货店也尝试过走这条路，但 Trader Joe’s 就是 Trader Joe’s。\n",
      "（欢快的音乐）\n",
      "Audio saved to output_audio.mp3\n"
     ]
    }
   ],
   "source": [
    "# ... (previous code remains the same)\n",
    "\n",
    "base_audio = combined_audio(sentences_with_timestamps1, target_language='zh-CN', language_code='zh-CN', speaking_rate=2)\n",
    "# After creating and processing base_audio\n",
    "output_filename = \"output_audio.mp3\"\n",
    "base_audio.export(output_filename, format=\"mp3\")\n",
    "\n",
    "print(f\"Audio saved to {output_filename}\")"
   ]
  },
  {
   "cell_type": "code",
   "execution_count": null,
   "metadata": {},
   "outputs": [],
   "source": []
  }
 ],
 "metadata": {
  "kernelspec": {
   "display_name": "venv",
   "language": "python",
   "name": "python3"
  },
  "language_info": {
   "codemirror_mode": {
    "name": "ipython",
    "version": 3
   },
   "file_extension": ".py",
   "mimetype": "text/x-python",
   "name": "python",
   "nbconvert_exporter": "python",
   "pygments_lexer": "ipython3",
   "version": "3.12.7"
  }
 },
 "nbformat": 4,
 "nbformat_minor": 2
}
